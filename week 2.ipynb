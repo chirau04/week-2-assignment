{
 "cells": [
  {
   "cell_type": "markdown",
   "id": "05b93284-881b-40b5-96ee-7868b8bbb762",
   "metadata": {},
   "source": [
    "by using symbol # we write comment in python"
   ]
  },
  {
   "cell_type": "code",
   "execution_count": 1,
   "id": "1298e102-3329-445e-847d-bc4a9ed37985",
   "metadata": {},
   "outputs": [],
   "source": [
    "#chirau vashistha \n",
    "#chanchal rajput "
   ]
  },
  {
   "cell_type": "markdown",
   "id": "d5b73e47-5a2b-4f49-bad5-eeb969be49b5",
   "metadata": {},
   "source": [
    "there are two types of comment in python\n",
    "1. single line comment\n",
    "2. multiple line comment "
   ]
  },
  {
   "cell_type": "markdown",
   "id": "550fe4e8-5879-48de-bfe2-f0493b9cf1d8",
   "metadata": {},
   "source": [
    "2. a python variable is reserved memory location to store values "
   ]
  },
  {
   "cell_type": "code",
   "execution_count": 4,
   "id": "da0a5e3b-2a36-4e19-8a4e-0f16ab548fe7",
   "metadata": {},
   "outputs": [],
   "source": [
    "c = 20"
   ]
  },
  {
   "cell_type": "code",
   "execution_count": 5,
   "id": "433d7c94-85a3-4db6-8398-3f8a9d43ecbe",
   "metadata": {},
   "outputs": [
    {
     "data": {
      "text/plain": [
       "20"
      ]
     },
     "execution_count": 5,
     "metadata": {},
     "output_type": "execute_result"
    }
   ],
   "source": [
    "c"
   ]
  },
  {
   "cell_type": "markdown",
   "id": "9de69fd5-b8eb-4581-ab59-469cdae47f82",
   "metadata": {},
   "source": [
    "python defines type conversions function like int() , float(), str(),to directly convert one data type into another."
   ]
  },
  {
   "cell_type": "code",
   "execution_count": 7,
   "id": "e14bc6b7-2466-4154-abf1-f539d66c36ff",
   "metadata": {},
   "outputs": [],
   "source": [
    "num_str = \"42\"\n",
    "num_int = int (num_str)"
   ]
  },
  {
   "cell_type": "code",
   "execution_count": 8,
   "id": "2e19c941-01dc-41a6-bd37-bc967b126458",
   "metadata": {},
   "outputs": [],
   "source": [
    "num_str = \"3.14\"\n",
    "num_float = float(num_str)"
   ]
  },
  {
   "cell_type": "code",
   "execution_count": 9,
   "id": "31212a7f-2fc9-4024-9bc1-d10e25e5e43b",
   "metadata": {},
   "outputs": [],
   "source": [
    "num = 42\n",
    "num_str = str(num)"
   ]
  },
  {
   "cell_type": "code",
   "execution_count": 10,
   "id": "3ea54ac0-1dc9-46b8-bc1b-7fd5c6e14c5c",
   "metadata": {},
   "outputs": [],
   "source": [
    "num = 0\n",
    "bool_value = bool(num)"
   ]
  },
  {
   "cell_type": "code",
   "execution_count": 11,
   "id": "14f322c4-9b81-45fd-8a88-878d8de8e1f1",
   "metadata": {},
   "outputs": [],
   "source": [
    "my_list = [1,2,3]\n",
    "my_tuple = tuple(my_list)\n",
    "my_set = set(my_list)"
   ]
  },
  {
   "cell_type": "code",
   "execution_count": 12,
   "id": "e93659f8-eb5d-459d-aea7-aa9a76e06cec",
   "metadata": {},
   "outputs": [
    {
     "name": "stdout",
     "output_type": "stream",
     "text": [
      "hello,python!\n"
     ]
    }
   ],
   "source": [
    "print(\"hello,python!\")"
   ]
  },
  {
   "cell_type": "markdown",
   "id": "fcad9908-87ff-4e9f-810c-91b5c4e41bf2",
   "metadata": {},
   "source": [
    "open command line (terminal or command prompt)"
   ]
  },
  {
   "cell_type": "markdown",
   "id": "1f9b5c10-ff10-4c4c-9759-2f3f31d446a0",
   "metadata": {},
   "source": [
    "python myscript.py"
   ]
  },
  {
   "cell_type": "markdown",
   "id": "bec686ec-5598-4899-b6d1-5af9111fe906",
   "metadata": {},
   "source": [
    "python3 myscript.py"
   ]
  },
  {
   "cell_type": "code",
   "execution_count": 16,
   "id": "065c6046-4924-4ff7-942d-e3da6cb9dc9e",
   "metadata": {},
   "outputs": [],
   "source": [
    "my_list =[1,2,3,4,5]"
   ]
  },
  {
   "cell_type": "code",
   "execution_count": 18,
   "id": "26f69daa-35e5-4672-b4aa-03dd623b54d6",
   "metadata": {},
   "outputs": [
    {
     "data": {
      "text/plain": [
       "[2, 3]"
      ]
     },
     "execution_count": 18,
     "metadata": {},
     "output_type": "execute_result"
    }
   ],
   "source": [
    "my_list[1:3]"
   ]
  },
  {
   "cell_type": "markdown",
   "id": "9f889564-a627-4464-bc06-000c7f9084c9",
   "metadata": {},
   "source": [
    "in mathematics we use i like 5+7i"
   ]
  },
  {
   "cell_type": "markdown",
   "id": "16bfefa6-2b1d-45ff-8f6f-b541b3569295",
   "metadata": {},
   "source": [
    "in python we use j "
   ]
  },
  {
   "cell_type": "code",
   "execution_count": 20,
   "id": "43bd9b80-56c0-4d2c-baa0-04b9270aa2e5",
   "metadata": {},
   "outputs": [
    {
     "data": {
      "text/plain": [
       "(2+4j)"
      ]
     },
     "execution_count": 20,
     "metadata": {},
     "output_type": "execute_result"
    }
   ],
   "source": [
    "2+4j"
   ]
  },
  {
   "cell_type": "code",
   "execution_count": 21,
   "id": "bfefb3bd-7970-4231-921c-fa02165f77d9",
   "metadata": {},
   "outputs": [],
   "source": [
    "age = 25"
   ]
  },
  {
   "cell_type": "code",
   "execution_count": 22,
   "id": "a149f7c9-05b7-47b1-ae51-45f7ce6937f9",
   "metadata": {},
   "outputs": [
    {
     "data": {
      "text/plain": [
       "25"
      ]
     },
     "execution_count": 22,
     "metadata": {},
     "output_type": "execute_result"
    }
   ],
   "source": [
    "age"
   ]
  },
  {
   "cell_type": "code",
   "execution_count": 23,
   "id": "d70318e6-8b22-4170-940d-98ea680f788a",
   "metadata": {},
   "outputs": [],
   "source": [
    "price = 9.99"
   ]
  },
  {
   "cell_type": "markdown",
   "id": "b44e6eb4-ffc2-46bb-bb71-d785598eb872",
   "metadata": {},
   "source": [
    "this data type belongs to floating"
   ]
  },
  {
   "cell_type": "code",
   "execution_count": 24,
   "id": "7a95d0b2-af12-4a39-9ab3-2db5ef4324d8",
   "metadata": {},
   "outputs": [],
   "source": [
    "name = \"chirau vashistha \""
   ]
  },
  {
   "cell_type": "code",
   "execution_count": 30,
   "id": "51351744-0f5a-4525-a6a1-45a9762aeb60",
   "metadata": {},
   "outputs": [],
   "source": [
    "my_str = \"hello,world!\""
   ]
  },
  {
   "cell_type": "code",
   "execution_count": 31,
   "id": "dab3b798-9980-4521-9f2f-e1632ef28a6c",
   "metadata": {},
   "outputs": [
    {
     "data": {
      "text/plain": [
       "'world!'"
      ]
     },
     "execution_count": 31,
     "metadata": {},
     "output_type": "execute_result"
    }
   ],
   "source": [
    "my_str[6:]"
   ]
  },
  {
   "cell_type": "code",
   "execution_count": null,
   "id": "660da763-5be1-4755-85f4-a03cd95ca8ed",
   "metadata": {},
   "outputs": [],
   "source": []
  }
 ],
 "metadata": {
  "kernelspec": {
   "display_name": "Python 3 (ipykernel)",
   "language": "python",
   "name": "python3"
  },
  "language_info": {
   "codemirror_mode": {
    "name": "ipython",
    "version": 3
   },
   "file_extension": ".py",
   "mimetype": "text/x-python",
   "name": "python",
   "nbconvert_exporter": "python",
   "pygments_lexer": "ipython3",
   "version": "3.10.8"
  }
 },
 "nbformat": 4,
 "nbformat_minor": 5
}
